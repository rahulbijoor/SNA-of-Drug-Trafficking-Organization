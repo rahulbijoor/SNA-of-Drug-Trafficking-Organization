{
 "cells": [
  {
   "cell_type": "code",
   "execution_count": 16,
   "metadata": {},
   "outputs": [
    {
     "name": "stdout",
     "output_type": "stream",
     "text": [
      "Solution Exists: Following are the assigned colors \n",
      "1 2 3 2 \n",
      "\n",
      "Resource usage by Authorities without using Graph-Colouring Algorithm =  4\n",
      "Resource usage by Authorities after using Graph-Colouring Algorithm =  3\n",
      "Percentage of resources saved by the Authorities after using SNA and the Graph Colouring Algorithm is 25 %\n"
     ]
    }
   ],
   "source": [
    "list1 = []\n",
    "dict1 = {}\n",
    "def isSafe(graph, color):\n",
    "   \n",
    "    for i in range(4):\n",
    "        for j in range(i + 1, 4):\n",
    "            if (graph[i][j] and color[j] == color[i]):\n",
    "                return False\n",
    "    return True\n",
    "\n",
    "def graphColoring(graph, m, i, color):\n",
    "   \n",
    "    # if current index reached end\n",
    "    if (i == 4):\n",
    " \n",
    "        # if coloring is safe\n",
    "        if (isSafe(graph, color)):\n",
    " \n",
    "            # Print the solution\n",
    "            printSolution(color)\n",
    "            return True\n",
    "        return False\n",
    " \n",
    "    # Assign each color from 1 to m\n",
    "    for j in range(1, m + 1):\n",
    "        color[i] = j\n",
    " \n",
    "        # Recur of the rest vertices\n",
    "        if (graphColoring(graph, m, i + 1, color)):\n",
    "            return True\n",
    "        color[i] = 0\n",
    "    return False\n",
    " \n",
    "# /* A utility function to prsolution */\n",
    "def printSolution(color):\n",
    "    print(\"Solution Exists:\" \" Following are the assigned colors \")\n",
    "    for i in range(4):\n",
    "        print(color[i],end=\" \")\n",
    "        list1.append(color[i])\n",
    "    print('\\n')\n",
    " \n",
    "# Driver code\n",
    "if __name__ == '__main__':\n",
    "\n",
    "    graph = [\n",
    "        [ 0, 1, 1, 1 ],\n",
    "        [ 1, 0, 1, 0 ],\n",
    "        [ 1, 1, 0, 1 ],\n",
    "        [ 1, 0, 1, 0 ],\n",
    "    ]\n",
    "    m = 3 # Number of colors\n",
    " \n",
    "    color = [0 for i in range(4)]\n",
    " \n",
    "    if (not graphColoring(graph, m, 0, color)):\n",
    "        print (\"Solution does not exist\")\n",
    "    else:\n",
    "        print('Resource usage by Authorities without using Graph-Colouring Algorithm = ',len(list1))\n",
    "        print('Resource usage by Authorities after using Graph-Colouring Algorithm = ',len(set(list1)))\n",
    "        x = len(list1)\n",
    "        y = len(set(list1))\n",
    "        res = int((x-y)/x *100)\n",
    "        print('Percentage of resources saved by the Authorities after using SNA and the Graph Colouring Algorithm is',res,'%')\n",
    "# This code is contributed by mohit kumar 29"
   ]
  },
  {
   "cell_type": "code",
   "execution_count": 17,
   "metadata": {},
   "outputs": [],
   "source": [
    "import networkx as nx\n",
    "import matplotlib.pyplot as plt"
   ]
  },
  {
   "cell_type": "code",
   "execution_count": 18,
   "metadata": {},
   "outputs": [],
   "source": [
    "G = nx.Graph()"
   ]
  },
  {
   "cell_type": "code",
   "execution_count": 19,
   "metadata": {},
   "outputs": [],
   "source": [
    "G.add_node(1)"
   ]
  },
  {
   "cell_type": "code",
   "execution_count": 20,
   "metadata": {},
   "outputs": [],
   "source": [
    "G.add_node(2)"
   ]
  },
  {
   "cell_type": "code",
   "execution_count": 21,
   "metadata": {},
   "outputs": [],
   "source": [
    "G.add_node(3)"
   ]
  },
  {
   "cell_type": "code",
   "execution_count": 22,
   "metadata": {},
   "outputs": [],
   "source": [
    "G.add_node(4)"
   ]
  },
  {
   "cell_type": "code",
   "execution_count": 25,
   "metadata": {},
   "outputs": [
    {
     "data": {
      "image/png": "[encoded data removed]",
      "text/plain": [
       "<Figure size 432x288 with 1 Axes>"
      ]
     },
     "metadata": {},
     "output_type": "display_data"
    }
   ],
   "source": [
    "nx.draw(G)"
   ]
  },
  {
   "cell_type": "code",
   "execution_count": 24,
   "metadata": {},
   "outputs": [],
   "source": [
    "G.add_edge(1,2)"
   ]
  },
  {
   "cell_type": "code",
   "execution_count": 26,
   "metadata": {},
   "outputs": [],
   "source": [
    "G.add_edge(2,3)"
   ]
  },
  {
   "cell_type": "code",
   "execution_count": 27,
   "metadata": {},
   "outputs": [],
   "source": [
    "G.add_edge(3,4)"
   ]
  },
  {
   "cell_type": "code",
   "execution_count": 28,
   "metadata": {},
   "outputs": [],
   "source": [
    "G.add_edge(4,1)"
   ]
  },
  {
   "cell_type": "code",
   "execution_count": 29,
   "metadata": {},
   "outputs": [
    {
     "data": {
      "image/png": "[encoded data removed]",
      "text/plain": [
       "<Figure size 432x288 with 1 Axes>"
      ]
     },
     "metadata": {},
     "output_type": "display_data"
    }
   ],
   "source": [
    "nx.draw(G)"
   ]
  },
  {
   "cell_type": "code",
   "execution_count": 42,
   "metadata": {},
   "outputs": [],
   "source": [
    "G.add_edge(4,5,edge_color='red')"
   ]
  },
  {
   "cell_type": "code",
   "execution_count": 51,
   "metadata": {},
   "outputs": [
    {
     "data": {
      "image/png": "[encoded data removed]",
      "text/plain": [
       "<Figure size 432x288 with 1 Axes>"
      ]
     },
     "metadata": {},
     "output_type": "display_data"
    }
   ],
   "source": [
    "nx.draw(G, node_size=200, node_color='black')"
   ]
  },
  {
   "cell_type": "code",
   "execution_count": null,
   "metadata": {},
   "outputs": [],
   "source": []
  }
 ],
 "metadata": {
  "kernelspec": {
   "display_name": "Python 3",
   "language": "python",
   "name": "python3"
  },
  "language_info": {
   "codemirror_mode": {
    "name": "ipython",
    "version": 3
   },
   "file_extension": ".py",
   "mimetype": "text/x-python",
   "name": "python",
   "nbconvert_exporter": "python",
   "pygments_lexer": "ipython3",
   "version": "3.7.6"
  }
 },
 "nbformat": 4,
 "nbformat_minor": 4
}
